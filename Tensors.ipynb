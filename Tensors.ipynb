{
  "nbformat": 4,
  "nbformat_minor": 0,
  "metadata": {
    "colab": {
      "name": "Tensors.ipynb",
      "provenance": [],
      "collapsed_sections": [],
      "authorship_tag": "ABX9TyNesLUpYgnygLaGf05NnhdR",
      "include_colab_link": true
    },
    "kernelspec": {
      "name": "python3",
      "display_name": "Python 3"
    }
  },
  "cells": [
    {
      "cell_type": "markdown",
      "metadata": {
        "id": "view-in-github",
        "colab_type": "text"
      },
      "source": [
        "<a href=\"https://colab.research.google.com/github/AkandiMichael/Deep-Learning/blob/master/Tensors.ipynb\" target=\"_parent\"><img src=\"https://colab.research.google.com/assets/colab-badge.svg\" alt=\"Open In Colab\"/></a>"
      ]
    },
    {
      "cell_type": "code",
      "metadata": {
        "id": "KfogAjj-xxAw",
        "colab_type": "code",
        "outputId": "609b269e-e25e-4293-cac5-6afd05ffbe91",
        "colab": {
          "base_uri": "https://localhost:8080/",
          "height": 34
        }
      },
      "source": [
        "import tensorflow as tf\n",
        "\n",
        "a=tf.constant(4)\n",
        "b=tf.constant(3)\n",
        "c=tf.constant(8)\n",
        "d=tf.add(a,b)\n",
        "e=tf.multiply(b,c)\n",
        "f=tf.subtract(e,d)\n",
        "sess=tf.compat.v1.Session()\n",
        "print(sess.run(f))"
      ],
      "execution_count": 48,
      "outputs": [
        {
          "output_type": "stream",
          "text": [
            "17\n"
          ],
          "name": "stdout"
        }
      ]
    },
    {
      "cell_type": "code",
      "metadata": {
        "id": "vyzn4k0y-p97",
        "colab_type": "code",
        "outputId": "ebab83fb-c2f8-4c96-9d1f-1664a2b94ea6",
        "colab": {
          "base_uri": "https://localhost:8080/",
          "height": 34
        }
      },
      "source": [
        "import tensorflow as tf\n",
        "a=tf.compat.v1.placeholder(tf.float32)\n",
        "b=tf.compat.v1.placeholder(tf.float32)\n",
        "add=a+b\n",
        "sess=tf.compat.v1.Session()\n",
        "print(sess.run(add,{a:[1,4],b:[2,4]}))"
      ],
      "execution_count": 47,
      "outputs": [
        {
          "output_type": "stream",
          "text": [
            "[3. 8.]\n"
          ],
          "name": "stdout"
        }
      ]
    },
    {
      "cell_type": "code",
      "metadata": {
        "id": "VNQquYS61tii",
        "colab_type": "code",
        "outputId": "378db698-c376-444f-f3be-f66fba8bc7de",
        "colab": {
          "base_uri": "https://localhost:8080/",
          "height": 34
        }
      },
      "source": [
        "#computational graph to evaluate y=wx+b\n",
        "#training the model y=wx+b\n",
        "import tensorflow as tf\n",
        "tf.compat.v1.disable_eager_execution()\n",
        "w=tf.Variable([.3],tf.float32) #decalre uninitialized variable w\n",
        "b=tf.Variable([-.3],tf.float32)\n",
        "x=tf.compat.v1.placeholder(tf.float32) #promise to privde value of x later,this case in print function\n",
        "linear_model=(w*x) + b\n",
        "init=tf.compat.v1.global_variables_initializer() #initializes all global variables used in this case w,b \n",
        "sess=tf.compat.v1.Session() #creates environment for running objects or computations\n",
        "sess.run(init)#initializes variables at run time\n",
        "#print(sess.run(linear_model,{x:[1,2,3,4]})) # values of train for each value of x from 1 to 4 \n",
        "\n",
        "\n"
      ],
      "execution_count": 40,
      "outputs": [
        {
          "output_type": "stream",
          "text": [
            "[0.         0.3        0.6        0.90000004]\n"
          ],
          "name": "stdout"
        }
      ]
    },
    {
      "cell_type": "code",
      "metadata": {
        "id": "7Rzz1tR1XB0y",
        "colab_type": "code",
        "colab": {
          "base_uri": "https://localhost:8080/",
          "height": 34
        },
        "outputId": "67ea437f-ebef-455e-b99c-17aa00e12187"
      },
      "source": [
        "# Testing the linear model\n",
        "y=tf.compat.v1.placeholder(tf.float32)\n",
        "square_deltas=tf.square(linear_model-y)\n",
        "loss=tf.reduce_sum(square_deltas)\n",
        "#print(sess.run(loss,{x:[1,2,3,4],y:[0,-1,-2,-3]}))\n",
        "\n",
        "optimizer=tf.compat.v1.train.GradientDescentOptimizer(0.01) #provides learning rate\n",
        "train =optimizer.minimize(loss)\n",
        "sess.run(init)\n",
        "for i in range(1000):\n",
        "  sess.run(train,{x:[1,2,3,4],y:[0,-1,-2,-3]}) # testing the model with y values given below\n",
        "print(sess.run([w,b])) #values for w and b with minimal error"
      ],
      "execution_count": 43,
      "outputs": [
        {
          "output_type": "stream",
          "text": [
            "[array([-0.9999969], dtype=float32), array([0.9999908], dtype=float32)]\n"
          ],
          "name": "stdout"
        }
      ]
    }
  ]
}